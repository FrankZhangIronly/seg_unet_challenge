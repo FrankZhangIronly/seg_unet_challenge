{
 "cells": [
  {
   "cell_type": "code",
   "execution_count": 11,
   "id": "bfc27c63-b76f-468d-b2f2-f028ce1b803d",
   "metadata": {},
   "outputs": [],
   "source": [
    "import os\n",
    "import cv2\n",
    "from tqdm import tqdm\n",
    "\n",
    "def preprocess(video_path, sub_zip_name):\n",
    "    print(f\"Processing {video_path}\")\n",
    "    \n",
    "    output_dir = 'Pytorch-UNet/data/val/imgs'\n",
    "    os.makedirs(output_dir, exist_ok=True)\n",
    "\n",
    "    cap = cv2.VideoCapture(video_path)\n",
    "    total_frames = int(cap.get(cv2.CAP_PROP_FRAME_COUNT)) \n",
    "    frame_interval = 60 \n",
    "\n",
    "    with tqdm(total=total_frames // frame_interval, desc=\"Processing frames\", unit=\"frame\") as pbar:\n",
    "        for frame_index in range(0, total_frames, frame_interval):\n",
    "            cap.set(cv2.CAP_PROP_POS_FRAMES, frame_index)\n",
    "            ret, frame = cap.read()\n",
    "            if not ret:\n",
    "                break\n",
    "\n",
    "            output_file = os.path.join(output_dir, f'{os.path.splitext(sub_zip_name)[0]}_{frame_index:09d}.png')\n",
    "            cv2.imwrite(output_file, frame)\n",
    "            pbar.update(1)\n",
    "\n",
    "    cap.release()\n",
    "    print(f\"Total saved frames: {pbar.n}\")"
   ]
  },
  {
   "cell_type": "code",
   "execution_count": 12,
   "id": "44fa1725-f4e2-452f-8c0e-804428693b67",
   "metadata": {
    "scrolled": true
   },
   "outputs": [],
   "source": [
    "import os\n",
    "import zipfile\n",
    "import shutil\n",
    "import subprocess\n",
    "\n",
    "def download_file(url, output_path):\n",
    "\n",
    "    subprocess.run([\"wget\", \"-O\", output_path, url, \"--no-check-certificate\", \"-q\"])\n",
    "\n",
    "def process_zip_from_links(link_list, output_dir=\"Pytorch-UNet/data/val/masks\"):\n",
    "\n",
    "    temp_dir = \"tmp/zip_processing/\"\n",
    "    os.makedirs(temp_dir, exist_ok=True)\n",
    "\n",
    "    for index, link in enumerate(link_list):\n",
    "        os.makedirs(temp_dir, exist_ok=True)\n",
    "        print(f\"Downloading ZIP file {index + 1} from {link}...\")\n",
    "        sub_zip_path = os.path.join(temp_dir, f\"main_{index + 1}.zip\")\n",
    "        sub_zip_name = f\"{index + 1}.zip\"\n",
    "        download_file(link, sub_zip_path)\n",
    "\n",
    "\n",
    "        with zipfile.ZipFile(sub_zip_path, 'r') as sub_zip:\n",
    "            for item in sub_zip.namelist():\n",
    "                if item.endswith(\"video_left.avi\"):\n",
    "                    avi_path = os.path.join(temp_dir, \"video_left.avi\")\n",
    "                    with open(avi_path, 'wb') as avi_file:\n",
    "                        avi_file.write(sub_zip.read(item))\n",
    "                    preprocess(avi_path, sub_zip_name)\n",
    "                    os.remove(avi_path)\n",
    "                elif item.startswith(\"segmentation/\") and item.endswith(\".png\"):\n",
    "                    png_name = os.path.basename(item)\n",
    "                    output_png_path = os.path.join(output_dir, f\"{os.path.splitext(sub_zip_name)[0]}_{png_name}\")\n",
    "                    os.makedirs(os.path.dirname(output_png_path), exist_ok=True)\n",
    "                    with open(output_png_path, 'wb') as png_file:\n",
    "                        png_file.write(sub_zip.read(item))\n",
    "\n",
    "        if os.path.exists(temp_dir):\n",
    "            shutil.rmtree(temp_dir)"
   ]
  },
  {
   "cell_type": "code",
   "execution_count": 13,
   "id": "f20a5c8c-0966-4c21-b737-f168837c801a",
   "metadata": {
    "scrolled": true
   },
   "outputs": [
    {
     "name": "stdout",
     "output_type": "stream",
     "text": [
      "Downloading ZIP file 1 from https://rdr.ucl.ac.uk/ndownloader/files/43947054...\n",
      "Processing tmp/zip_processing/video_left.avi\n"
     ]
    },
    {
     "name": "stderr",
     "output_type": "stream",
     "text": [
      "Processing frames: 238frame [00:41,  5.72frame/s]                      \n"
     ]
    },
    {
     "name": "stdout",
     "output_type": "stream",
     "text": [
      "Total saved frames: 238\n",
      "Downloading ZIP file 2 from https://rdr.ucl.ac.uk/ndownloader/files/43947066...\n",
      "Processing tmp/zip_processing/video_left.avi\n"
     ]
    },
    {
     "name": "stderr",
     "output_type": "stream",
     "text": [
      "Processing frames: 358frame [01:00,  5.89frame/s]                      \n"
     ]
    },
    {
     "name": "stdout",
     "output_type": "stream",
     "text": [
      "Total saved frames: 358\n",
      "Downloading ZIP file 3 from https://rdr.ucl.ac.uk/ndownloader/files/43947051...\n",
      "Processing tmp/zip_processing/video_left.avi\n"
     ]
    },
    {
     "name": "stderr",
     "output_type": "stream",
     "text": [
      "Processing frames: 198frame [00:35,  5.52frame/s]                      \n"
     ]
    },
    {
     "name": "stdout",
     "output_type": "stream",
     "text": [
      "Total saved frames: 198\n",
      "Downloading ZIP file 4 from https://rdr.ucl.ac.uk/ndownloader/files/43947048...\n",
      "Processing tmp/zip_processing/video_left.avi\n"
     ]
    },
    {
     "name": "stderr",
     "output_type": "stream",
     "text": [
      "Processing frames: 143frame [00:27,  5.26frame/s]                      \n"
     ]
    },
    {
     "name": "stdout",
     "output_type": "stream",
     "text": [
      "Total saved frames: 143\n",
      "Downloading ZIP file 5 from https://rdr.ucl.ac.uk/ndownloader/files/43947045...\n",
      "Processing tmp/zip_processing/video_left.avi\n"
     ]
    },
    {
     "name": "stderr",
     "output_type": "stream",
     "text": [
      "Processing frames: 117frame [00:20,  5.76frame/s]                      \n"
     ]
    },
    {
     "name": "stdout",
     "output_type": "stream",
     "text": [
      "Total saved frames: 117\n",
      "Downloading ZIP file 6 from https://rdr.ucl.ac.uk/ndownloader/files/43947069...\n",
      "Processing tmp/zip_processing/video_left.avi\n"
     ]
    },
    {
     "name": "stderr",
     "output_type": "stream",
     "text": [
      "Processing frames: 633frame [01:24,  7.51frame/s]                      \n"
     ]
    },
    {
     "name": "stdout",
     "output_type": "stream",
     "text": [
      "Total saved frames: 633\n",
      "Downloading ZIP file 7 from https://rdr.ucl.ac.uk/ndownloader/files/43947072...\n",
      "Processing tmp/zip_processing/video_left.avi\n"
     ]
    },
    {
     "name": "stderr",
     "output_type": "stream",
     "text": [
      "Processing frames: 334frame [01:02,  5.36frame/s]                      \n"
     ]
    },
    {
     "name": "stdout",
     "output_type": "stream",
     "text": [
      "Total saved frames: 334\n",
      "Downloading ZIP file 8 from https://rdr.ucl.ac.uk/ndownloader/files/43947057...\n",
      "Processing tmp/zip_processing/video_left.avi\n"
     ]
    },
    {
     "name": "stderr",
     "output_type": "stream",
     "text": [
      "Processing frames: 301frame [00:54,  5.55frame/s]                      \n"
     ]
    },
    {
     "name": "stdout",
     "output_type": "stream",
     "text": [
      "Total saved frames: 301\n",
      "Downloading ZIP file 9 from https://rdr.ucl.ac.uk/ndownloader/files/43947075...\n",
      "Processing tmp/zip_processing/video_left.avi\n"
     ]
    },
    {
     "name": "stderr",
     "output_type": "stream",
     "text": [
      "Processing frames: 687frame [01:59,  5.74frame/s]                      \n"
     ]
    },
    {
     "name": "stdout",
     "output_type": "stream",
     "text": [
      "Total saved frames: 687\n",
      "Downloading ZIP file 10 from https://rdr.ucl.ac.uk/ndownloader/files/43947063...\n",
      "Processing tmp/zip_processing/video_left.avi\n"
     ]
    },
    {
     "name": "stderr",
     "output_type": "stream",
     "text": [
      "Processing frames: 243frame [00:48,  5.03frame/s]                      \n"
     ]
    },
    {
     "name": "stdout",
     "output_type": "stream",
     "text": [
      "Total saved frames: 243\n"
     ]
    }
   ],
   "source": [
    "download_links = [\"https://rdr.ucl.ac.uk/ndownloader/files/43947054\",\n",
    "\"https://rdr.ucl.ac.uk/ndownloader/files/43947066\",\n",
    "\"https://rdr.ucl.ac.uk/ndownloader/files/43947051\",\n",
    "\"https://rdr.ucl.ac.uk/ndownloader/files/43947048\",\n",
    "\"https://rdr.ucl.ac.uk/ndownloader/files/43947045\",\n",
    "\"https://rdr.ucl.ac.uk/ndownloader/files/43947069\",\n",
    "\"https://rdr.ucl.ac.uk/ndownloader/files/43947072\",\n",
    "\"https://rdr.ucl.ac.uk/ndownloader/files/43947057\",\n",
    "\"https://rdr.ucl.ac.uk/ndownloader/files/43947075\",\n",
    "\"https://rdr.ucl.ac.uk/ndownloader/files/43947063\",]\n",
    "\n",
    "process_zip_from_links(download_links)"
   ]
  },
  {
   "cell_type": "code",
   "execution_count": null,
   "id": "8b4d1e24-1782-4c90-bd9d-3e52cd260ba8",
   "metadata": {},
   "outputs": [],
   "source": [
    "download_links = [\n",
    "    \"https://rdr.ucl.ac.uk/ndownloader/files/43947132\",\n",
    "    \"https://rdr.ucl.ac.uk/ndownloader/files/43947126\",\n",
    "    \"https://rdr.ucl.ac.uk/ndownloader/files/43947108\",\n",
    "    \"https://rdr.ucl.ac.uk/ndownloader/files/43947120\",\n",
    "    \"https://rdr.ucl.ac.uk/ndownloader/files/43947135\",\n",
    "    \"https://rdr.ucl.ac.uk/ndownloader/files/43947117\",\n",
    "    \"https://rdr.ucl.ac.uk/ndownloader/files/43947111\",\n",
    "    \"https://rdr.ucl.ac.uk/ndownloader/files/43947123\",\n",
    "    \"https://rdr.ucl.ac.uk/ndownloader/files/43947114\",\n",
    "    \"https://rdr.ucl.ac.uk/ndownloader/files/43947267\",\n",
    "    \"https://rdr.ucl.ac.uk/ndownloader/files/43947534\",\n",
    "    \"https://rdr.ucl.ac.uk/ndownloader/files/43947537\",\n",
    "    \"https://rdr.ucl.ac.uk/ndownloader/files/43947543\",\n",
    "    \"https://rdr.ucl.ac.uk/ndownloader/files/43947546\",\n",
    "    \"https://rdr.ucl.ac.uk/ndownloader/files/43947549\",\n",
    "    \"https://rdr.ucl.ac.uk/ndownloader/files/43947798\",\n",
    "    \"https://rdr.ucl.ac.uk/ndownloader/files/43947849\",\n",
    "    \"https://rdr.ucl.ac.uk/ndownloader/files/43947861\",\n",
    "    \"https://rdr.ucl.ac.uk/ndownloader/files/43947870\",\n",
    "    \"https://rdr.ucl.ac.uk/ndownloader/files/43947885\",\n",
    "    \"https://rdr.ucl.ac.uk/ndownloader/files/43947897\",\n",
    "    \"https://rdr.ucl.ac.uk/ndownloader/files/43947906\",\n",
    "    \"https://rdr.ucl.ac.uk/ndownloader/files/43947915\",\n",
    "    \"https://rdr.ucl.ac.uk/ndownloader/files/43954557\",\n",
    "    \"https://rdr.ucl.ac.uk/ndownloader/files/43954563\",\n",
    "    \"https://rdr.ucl.ac.uk/ndownloader/files/43954548\",\n",
    "    \"https://rdr.ucl.ac.uk/ndownloader/files/43954536\",\n",
    "    \"https://rdr.ucl.ac.uk/ndownloader/files/43954527\",\n",
    "    \"https://rdr.ucl.ac.uk/ndownloader/files/43954560\",\n",
    "    \"https://rdr.ucl.ac.uk/ndownloader/files/43954554\",\n",
    "    \"https://rdr.ucl.ac.uk/ndownloader/files/43954545\",\n",
    "    \"https://rdr.ucl.ac.uk/ndownloader/files/43954551\",\n",
    "    \"https://rdr.ucl.ac.uk/ndownloader/files/43954539\",\n",
    "    \"https://rdr.ucl.ac.uk/ndownloader/files/43954542\",\n",
    "    \"https://rdr.ucl.ac.uk/ndownloader/files/43956222\",\n",
    "    \"https://rdr.ucl.ac.uk/ndownloader/files/43956225\",\n",
    "    \"https://rdr.ucl.ac.uk/ndownloader/files/43956228\",\n",
    "    \"https://rdr.ucl.ac.uk/ndownloader/files/43956234\",\n",
    "    \"https://rdr.ucl.ac.uk/ndownloader/files/43956231\",\n",
    "    \"https://rdr.ucl.ac.uk/ndownloader/files/43956237\",\n",
    "]"
   ]
  }
 ],
 "metadata": {
  "kernelspec": {
   "display_name": "Python 3 (ipykernel)",
   "language": "python",
   "name": "python3"
  },
  "language_info": {
   "codemirror_mode": {
    "name": "ipython",
    "version": 3
   },
   "file_extension": ".py",
   "mimetype": "text/x-python",
   "name": "python",
   "nbconvert_exporter": "python",
   "pygments_lexer": "ipython3",
   "version": "3.11.10"
  }
 },
 "nbformat": 4,
 "nbformat_minor": 5
}
